{
  "nbformat": 4,
  "nbformat_minor": 0,
  "metadata": {
    "colab": {
      "provenance": [],
      "authorship_tag": "ABX9TyM/y4KVknrzvNyPz4sGNxPY",
      "include_colab_link": true
    },
    "kernelspec": {
      "name": "python3",
      "display_name": "Python 3"
    },
    "language_info": {
      "name": "python"
    }
  },
  "cells": [
    {
      "cell_type": "markdown",
      "metadata": {
        "id": "view-in-github",
        "colab_type": "text"
      },
      "source": [
        "<a href=\"https://colab.research.google.com/github/mayafeldthouse/Microscopy_decon/blob/main/OtsuThresholding_linked_to_drive.ipynb\" target=\"_parent\"><img src=\"https://colab.research.google.com/assets/colab-badge.svg\" alt=\"Open In Colab\"/></a>"
      ]
    },
    {
      "cell_type": "code",
      "execution_count": 1,
      "metadata": {
        "id": "BbxWHEY8jNEs"
      },
      "outputs": [],
      "source": [
        "import matplotlib.pyplot as plt\n",
        "from skimage import data, filters, io\n",
        "import numpy as np\n",
        "from pathlib import Path\n",
        "import tifffile"
      ]
    },
    {
      "cell_type": "code",
      "source": [
        "from google.colab import drive\n",
        "drive.mount('/content/drive')"
      ],
      "metadata": {
        "colab": {
          "base_uri": "https://localhost:8080/"
        },
        "id": "e4-z7oxXjXe0",
        "outputId": "ec4440d9-d9e9-44a3-de33-fcf4beec4cab"
      },
      "execution_count": 2,
      "outputs": [
        {
          "output_type": "stream",
          "name": "stdout",
          "text": [
            "Drive already mounted at /content/drive; to attempt to forcibly remount, call drive.mount(\"/content/drive\", force_remount=True).\n"
          ]
        }
      ]
    },
    {
      "cell_type": "code",
      "source": [
        "#to check the pathing of your Google Drive folders and make sure all your stuff is in there\n",
        "#can also copy paste the output SNR and mito/er of your choice so you don't have to type it for the pathing in the next cell!\n",
        "!ls \"/content/drive/MyDrive/Rawfiles/Parameter Tuning/Wiener Alpha/rawdata_Gaussian/test_deconv/matlab_decon_omw_wienerAlpha0.095789\""
      ],
      "metadata": {
        "colab": {
          "base_uri": "https://localhost:8080/"
        },
        "id": "_YqKTJBxjgbJ",
        "outputId": "c395f9ae-3a18-47dd-d1d2-6470db17fa90"
      },
      "execution_count": 3,
      "outputs": [
        {
          "output_type": "stream",
          "name": "stdout",
          "text": [
            "CamB_ch0_er_simulated_raw_Gaussian_px_108nm_0lambda_snr_16.tif\n",
            "CamB_ch0_er_simulated_raw_Gaussian_px_108nm_0lambda_snr_32.tif\n",
            "CamB_ch0_er_simulated_raw_Gaussian_px_108nm_0lambda_snr_4.tif\n",
            "CamB_ch0_er_simulated_raw_Gaussian_px_108nm_0lambda_snr_64.tif\n",
            "CamB_ch0_er_simulated_raw_Gaussian_px_108nm_0lambda_snr_8.tif\n",
            "CamB_ch0_mito_simulated_raw_Gaussian_px_108nm_0lambda_snr_16.tif\n",
            "CamB_ch0_mito_simulated_raw_Gaussian_px_108nm_0lambda_snr_32.tif\n",
            "CamB_ch0_mito_simulated_raw_Gaussian_px_108nm_0lambda_snr_4.tif\n",
            "CamB_ch0_mito_simulated_raw_Gaussian_px_108nm_0lambda_snr_64.tif\n",
            "CamB_ch0_mito_simulated_raw_Gaussian_px_108nm_0lambda_snr_8.tif\n",
            "MIPs\n",
            "parameters.mat\n",
            "parameters.txt\n",
            "psfgen\n"
          ]
        }
      ]
    },
    {
      "cell_type": "code",
      "source": [
        "#necessary for Option 1\n",
        "!pip install imagecodecs"
      ],
      "metadata": {
        "colab": {
          "base_uri": "https://localhost:8080/"
        },
        "id": "V36dwGn62VkN",
        "outputId": "cf1c8a7b-4501-4e28-9138-17bc726a0a60"
      },
      "execution_count": 4,
      "outputs": [
        {
          "output_type": "stream",
          "name": "stdout",
          "text": [
            "Requirement already satisfied: imagecodecs in /usr/local/lib/python3.10/dist-packages (2024.9.22)\n",
            "Requirement already satisfied: numpy in /usr/local/lib/python3.10/dist-packages (from imagecodecs) (1.26.4)\n"
          ]
        }
      ]
    },
    {
      "cell_type": "code",
      "source": [
        "#run to get the path to your file named as \"path_file\"\n",
        "import os\n",
        "################################################################################################################\n",
        "################# where you get put the name of the file you want, SNR/ER etc. Can copy/paste from above########\n",
        "################################################################################################################\n",
        "file = \"CamB_ch0_er_simulated_raw_Gaussian_px_108nm_0lambda_snr_4.tif\"\n",
        "\n",
        "################################################################################################################\n",
        "################# change last bit to have the correct wiener alpha value #######################################\n",
        "################################################################################################################\n",
        "\n",
        "Base_path = \"drive/MyDrive/Rawfiles/Parameter Tuning/Wiener Alpha/rawdata_Gaussian/test_deconv/matlab_decon_omw_wienerAlpha0.095789\"\n",
        "Base_path\n",
        "#adds the correct file to the end of base path\n",
        "path_file = os.path.join(Base_path, file)\n",
        "#chack that the file path is correct\n",
        "path_file"
      ],
      "metadata": {
        "colab": {
          "base_uri": "https://localhost:8080/",
          "height": 53
        },
        "id": "JAgfYYcTyNrB",
        "outputId": "02dc8b16-ca27-4d2b-b8cc-6850724ffac3"
      },
      "execution_count": 8,
      "outputs": [
        {
          "output_type": "execute_result",
          "data": {
            "text/plain": [
              "'drive/MyDrive/Rawfiles/Parameter Tuning/Wiener Alpha/rawdata_Gaussian/test_deconv/matlab_decon_omw_wienerAlpha0.095789/CamB_ch0_er_simulated_raw_Gaussian_px_108nm_0lambda_snr_4.tif'"
            ],
            "application/vnd.google.colaboratory.intrinsic+json": {
              "type": "string"
            }
          },
          "metadata": {},
          "execution_count": 8
        }
      ]
    },
    {
      "cell_type": "code",
      "source": [
        "# Option 1: Using scikit-image to get your image\n",
        "image = io.imread(path_file)\n"
      ],
      "metadata": {
        "id": "gO-hqB_Ajw5i"
      },
      "execution_count": 9,
      "outputs": []
    },
    {
      "cell_type": "code",
      "source": [
        "# Or Option 2: Using PIL to get your image\n",
        "from PIL import Image\n",
        "import numpy as np\n",
        "\n",
        "image = np.array(Image.open(path_file))"
      ],
      "metadata": {
        "id": "7YQcEFKb3bkT"
      },
      "execution_count": 11,
      "outputs": []
    },
    {
      "cell_type": "code",
      "source": [
        "print(f\"Original image shape: {image.shape}\")\n",
        "\n",
        "# Global threshold for entire stack\n",
        "global_threshold = filters.threshold_otsu(image)\n",
        "binary_stack_global = image > global_threshold\n",
        "\n",
        "# Slice-by-slice thresholding\n",
        "binary_stack_local = np.zeros_like(image, dtype=bool)\n",
        "for z in range(image.shape[0]):\n",
        "    threshold = filters.threshold_otsu(image[z])\n",
        "    binary_stack_local[z] = image[z] > threshold\n",
        "\n",
        "# Save using scikit-image's io\n",
        "binary_uint8_global = (binary_stack_global * 255).astype('uint8')\n",
        "binary_uint8_local = (binary_stack_local * 255).astype('uint8')\n",
        "io.imsave('thresholded_3D_global.tif', binary_uint8_global)\n",
        "io.imsave('thresholded_3D_local.tif', binary_uint8_local)"
      ],
      "metadata": {
        "colab": {
          "base_uri": "https://localhost:8080/"
        },
        "id": "2JFDghbwj0fk",
        "outputId": "dd651df4-9ba3-43fe-83a8-d5f9d716603f"
      },
      "execution_count": 12,
      "outputs": [
        {
          "output_type": "stream",
          "name": "stdout",
          "text": [
            "Original image shape: (278, 278)\n"
          ]
        }
      ]
    }
  ]
}